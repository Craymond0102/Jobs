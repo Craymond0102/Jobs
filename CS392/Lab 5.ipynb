{
 "cells": [
  {
   "cell_type": "markdown",
   "metadata": {},
   "source": [
    "# Logistical Regression"
   ]
  },
  {
   "cell_type": "code",
   "execution_count": 134,
   "metadata": {
    "collapsed": true
   },
   "outputs": [],
   "source": [
    "import numpy as np\n",
    "import pandas as pd\n",
    "import sklearn\n",
    "import matplotlib.pyplot as plt\n",
    "from sklearn.model_selection import train_test_split\n",
    "from sklearn import datasets\n",
    "from sklearn.metrics import mean_squared_error, r2_score\n",
    "from sklearn.linear_model import LogisticRegression\n",
    "from sklearn import metrics"
   ]
  },
  {
   "cell_type": "code",
   "execution_count": 179,
   "metadata": {},
   "outputs": [],
   "source": [
    "#Load in the data\n",
    "# I chose to load in the breast cancer data set because it has a binary target\n",
    "# Either yes, or no. I only use two features because these still create an accurate error\n",
    "\n",
    "# scikit-learn logistic regression\n",
    "\n",
    "breast =  datasets.load_breast_cancer()\n",
    "#X = iris.data[:, [2, 3]]\n",
    "#y = iris.target\n",
    "\n",
    "X = breast.data[:, :2]\n",
    "y = breast.target\n",
    "\n"
   ]
  },
  {
   "cell_type": "code",
   "execution_count": 180,
   "metadata": {},
   "outputs": [
    {
     "data": {
      "text/plain": [
       "((398, 2), (171, 2), (398,), (171,))"
      ]
     },
     "execution_count": 180,
     "metadata": {},
     "output_type": "execute_result"
    }
   ],
   "source": [
    "# we can split the data using an sklearn function which does everything for us\n",
    "test_percent = 0.3 # why am I using .3 here?\n",
    "\n",
    "X_train, X_test, y_train, y_test = train_test_split(X, y, test_size=test_percent)\n",
    "X_train.shape, X_test.shape, y_train.shape, y_test.shape"
   ]
  },
  {
   "cell_type": "code",
   "execution_count": 181,
   "metadata": {},
   "outputs": [
    {
     "data": {
      "text/plain": [
       "((57, 2), (57,))"
      ]
     },
     "execution_count": 181,
     "metadata": {},
     "output_type": "execute_result"
    }
   ],
   "source": [
    "test_percent = .33\n",
    "X_validation, X_test, y_validation, y_test = train_test_split(X_test, y_test, test_size=test_percent)\n",
    "X_test.shape, y_test.shape"
   ]
  },
  {
   "cell_type": "code",
   "execution_count": 182,
   "metadata": {},
   "outputs": [
    {
     "data": {
      "text/plain": [
       "LogisticRegression(C=1.0, class_weight=None, dual=False, fit_intercept=True,\n",
       "          intercept_scaling=1, max_iter=100, multi_class='warn',\n",
       "          n_jobs=None, penalty='l2', random_state=None, solver='warn',\n",
       "          tol=0.0001, verbose=0, warm_start=False)"
      ]
     },
     "execution_count": 182,
     "metadata": {},
     "output_type": "execute_result"
    }
   ],
   "source": [
    "# Normalize grades to values between 0 and 1 for more efficient computation\n",
    "#normalized_range = sklearn.preprocessing.MinMaxScaler(feature_range=(-1,1))\n",
    "\n",
    "# Extract Features + Labels\n",
    "#labels.shape =  (100,) #scikit expects this\n",
    "#features = normalized_range.fit_transform(features)\n",
    "\n",
    "\n",
    "# Scikit Logistic Regression\n",
    "log_reg = LogisticRegression()\n",
    "log_reg.fit(X_train, y_train)"
   ]
  },
  {
   "cell_type": "code",
   "execution_count": 183,
   "metadata": {},
   "outputs": [
    {
     "name": "stdout",
     "output_type": "stream",
     "text": [
      "[1 1 0 1 1 1 1 0 1 0 0 1 1 1 1 1 0 1 1 1 1 1 0 1 1 1 1 1 0 1 1 1 1 0 1 1 1\n",
      " 0 1 1 1 0 1 1 1 1 1 1 1 0 0 1 0 1 0 1 1 0 0 1 1 1 1 0 1 1 1 1 1 1 1 0 1 1\n",
      " 1 1 1 0 0 1 1 1 1 1 1 1 1 1 1 1 1 0 1 0 1 0 0 1 1 1 1 0 0 1 0 0 1 1 1 0 1\n",
      " 0 1 1]\n",
      "score: 0.894472361809\n",
      "The accuracy is : 0.885964912281\n"
     ]
    }
   ],
   "source": [
    "data_prediction_validate = log_reg.predict(X_validation)\n",
    "\n",
    "score = log_reg.score(X_train, y_train)\n",
    "print data_prediction_validate\n",
    "\n",
    "print(\"score: \" + str(score))\n",
    "print (\"The accuracy is : \" + str(metrics.accuracy_score(y_validation, data_prediction_validate)))"
   ]
  },
  {
   "cell_type": "code",
   "execution_count": 184,
   "metadata": {},
   "outputs": [
    {
     "name": "stdout",
     "output_type": "stream",
     "text": [
      "[1 1 0 1 1 1 1 0 1 0 0 1 1 1 1 1 0 1 1 1 1 1 0 1 1 1 1 1 0 1 1 1 1 0 1 1 1\n",
      " 0 1 1 1 0 1 1 1 1 1 1 1 0 0 1 0 1 0 1 1 0 0 1 1 1 1 0 1 1 1 1 1 1 1 0 1 1\n",
      " 1 1 1 0 0 1 1 1 1 1 1 1 1 1 1 1 1 0 1 0 1 0 0 1 1 1 1 0 0 1 0 0 1 1 1 0 1\n",
      " 0 1 1]\n",
      "[1 1 0 0 1 1 0 0 1 0 0 0 0 1 1 1 0 0 1 0 1 1 0 1 1 1 1 1 0 1 1 1 1 0 1 1 1\n",
      " 0 1 0 1 0 1 1 1 1 0 1 1 0 0 1 0 1 0 1 1 0 0 1 1 1 1 0 1 1 1 1 1 1 1 1 1 1\n",
      " 1 1 1 1 0 1 1 1 1 1 0 1 1 1 1 1 0 0 1 0 1 0 0 1 1 1 1 0 0 1 0 0 1 1 1 0 1\n",
      " 0 1 0]\n"
     ]
    }
   ],
   "source": [
    "#print X_validation\n",
    "print data_prediction_validate\n",
    "print y_validation"
   ]
  },
  {
   "cell_type": "code",
   "execution_count": 185,
   "metadata": {},
   "outputs": [
    {
     "name": "stdout",
     "output_type": "stream",
     "text": [
      "[1 1 1 0 1 1 1 1 1 0 0 1 1 1 1 1 1 1 1 1 1 1 0 1 1 1 1 1 1 0 1 1 0 0 1 1 1\n",
      " 1 0 1 1 1 0 1 1 1 1 1 1 0 1 1 1 1 0 1 0]\n",
      "The accuracy is : 0.894736842105\n",
      "score: 0.894472361809\n"
     ]
    }
   ],
   "source": [
    "data_prediction_validate = log_reg.predict(X_test)\n",
    "print data_prediction_validate\n",
    "\n",
    "print (\"The accuracy is : \" + str(metrics.accuracy_score(y_test, data_prediction_validate)))\n",
    "print(\"score: \" + str(score))"
   ]
  },
  {
   "cell_type": "code",
   "execution_count": 186,
   "metadata": {},
   "outputs": [
    {
     "data": {
      "text/plain": [
       "array([[-0.46939504, -0.0174963 ]])"
      ]
     },
     "execution_count": 186,
     "metadata": {},
     "output_type": "execute_result"
    }
   ],
   "source": [
    "log_reg.coef_"
   ]
  },
  {
   "cell_type": "code",
   "execution_count": 188,
   "metadata": {
    "collapsed": true
   },
   "outputs": [],
   "source": [
    "#The coefficients represent the weights of each feature. THe features we chose were \n",
    "#ID number and Diagnosis. Both are also negative which may infer a negative slope for the graph"
   ]
  }
 ],
 "metadata": {
  "kernelspec": {
   "display_name": "Python 2",
   "language": "python",
   "name": "python2"
  },
  "language_info": {
   "codemirror_mode": {
    "name": "ipython",
    "version": 3
   },
   "file_extension": ".py",
   "mimetype": "text/x-python",
   "name": "python",
   "nbconvert_exporter": "python",
   "pygments_lexer": "ipython3",
   "version": "3.6.5"
  }
 },
 "nbformat": 4,
 "nbformat_minor": 2
}
