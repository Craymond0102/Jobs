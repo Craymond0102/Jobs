{
 "cells": [
  {
   "cell_type": "code",
   "execution_count": 1,
   "metadata": {
    "collapsed": true
   },
   "outputs": [],
   "source": [
    "import numpy as np\n",
    "import pandas as pd\n",
    "import matplotlib.pyplot as plt\n",
    "from sklearn.model_selection import train_test_split\n",
    "from sklearn import datasets, linear_model\n",
    "from sklearn.metrics import mean_squared_error, r2_score\n",
    "from pandas.plotting import scatter_matrix\n"
   ]
  },
  {
   "cell_type": "code",
   "execution_count": 2,
   "metadata": {
    "collapsed": true
   },
   "outputs": [],
   "source": [
    "#Load in the data\n",
    "url = \"https://people.sc.fsu.edu/~jburkardt/data/csv/homes.csv\"\n",
    "names = ['Sell', 'List', 'Living', 'Rooms', 'Beds', 'Baths', 'Age', 'Acres', 'Taxes']\n",
    "data = pd.read_csv(url, header= 0, names=names, dtype = np.float64)\n",
    "data = data.drop(labels = 0, axis=0)"
   ]
  },
  {
   "cell_type": "code",
   "execution_count": 3,
   "metadata": {},
   "outputs": [
    {
     "data": {
      "text/html": [
       "<div>\n",
       "<style>\n",
       "    .dataframe thead tr:only-child th {\n",
       "        text-align: right;\n",
       "    }\n",
       "\n",
       "    .dataframe thead th {\n",
       "        text-align: left;\n",
       "    }\n",
       "\n",
       "    .dataframe tbody tr th {\n",
       "        vertical-align: top;\n",
       "    }\n",
       "</style>\n",
       "<table border=\"1\" class=\"dataframe\">\n",
       "  <thead>\n",
       "    <tr style=\"text-align: right;\">\n",
       "      <th></th>\n",
       "      <th>Sell</th>\n",
       "      <th>List</th>\n",
       "      <th>Living</th>\n",
       "      <th>Rooms</th>\n",
       "      <th>Beds</th>\n",
       "      <th>Baths</th>\n",
       "      <th>Age</th>\n",
       "      <th>Acres</th>\n",
       "      <th>Taxes</th>\n",
       "    </tr>\n",
       "  </thead>\n",
       "  <tbody>\n",
       "    <tr>\n",
       "      <th>1</th>\n",
       "      <td>175.0</td>\n",
       "      <td>180.0</td>\n",
       "      <td>18.0</td>\n",
       "      <td>8.0</td>\n",
       "      <td>4.0</td>\n",
       "      <td>1.0</td>\n",
       "      <td>12.0</td>\n",
       "      <td>0.43</td>\n",
       "      <td>4033.0</td>\n",
       "    </tr>\n",
       "    <tr>\n",
       "      <th>2</th>\n",
       "      <td>129.0</td>\n",
       "      <td>132.0</td>\n",
       "      <td>13.0</td>\n",
       "      <td>6.0</td>\n",
       "      <td>3.0</td>\n",
       "      <td>1.0</td>\n",
       "      <td>41.0</td>\n",
       "      <td>0.33</td>\n",
       "      <td>1471.0</td>\n",
       "    </tr>\n",
       "    <tr>\n",
       "      <th>3</th>\n",
       "      <td>138.0</td>\n",
       "      <td>140.0</td>\n",
       "      <td>17.0</td>\n",
       "      <td>7.0</td>\n",
       "      <td>3.0</td>\n",
       "      <td>1.0</td>\n",
       "      <td>22.0</td>\n",
       "      <td>0.46</td>\n",
       "      <td>3204.0</td>\n",
       "    </tr>\n",
       "    <tr>\n",
       "      <th>4</th>\n",
       "      <td>232.0</td>\n",
       "      <td>240.0</td>\n",
       "      <td>25.0</td>\n",
       "      <td>8.0</td>\n",
       "      <td>4.0</td>\n",
       "      <td>3.0</td>\n",
       "      <td>5.0</td>\n",
       "      <td>2.05</td>\n",
       "      <td>3613.0</td>\n",
       "    </tr>\n",
       "    <tr>\n",
       "      <th>5</th>\n",
       "      <td>135.0</td>\n",
       "      <td>140.0</td>\n",
       "      <td>18.0</td>\n",
       "      <td>7.0</td>\n",
       "      <td>4.0</td>\n",
       "      <td>3.0</td>\n",
       "      <td>9.0</td>\n",
       "      <td>0.57</td>\n",
       "      <td>3028.0</td>\n",
       "    </tr>\n",
       "  </tbody>\n",
       "</table>\n",
       "</div>"
      ],
      "text/plain": [
       "    Sell   List  Living  Rooms  Beds  Baths   Age  Acres   Taxes\n",
       "1  175.0  180.0    18.0    8.0   4.0    1.0  12.0   0.43  4033.0\n",
       "2  129.0  132.0    13.0    6.0   3.0    1.0  41.0   0.33  1471.0\n",
       "3  138.0  140.0    17.0    7.0   3.0    1.0  22.0   0.46  3204.0\n",
       "4  232.0  240.0    25.0    8.0   4.0    3.0   5.0   2.05  3613.0\n",
       "5  135.0  140.0    18.0    7.0   4.0    3.0   9.0   0.57  3028.0"
      ]
     },
     "execution_count": 3,
     "metadata": {},
     "output_type": "execute_result"
    }
   ],
   "source": [
    "data.head()\n",
    "#print data\n",
    "#data.dtypes"
   ]
  },
  {
   "cell_type": "code",
   "execution_count": 4,
   "metadata": {
    "collapsed": true
   },
   "outputs": [],
   "source": [
    "#scatter_matrix(data,figsize=[15, 15])\n",
    "#plt.show()"
   ]
  },
  {
   "cell_type": "code",
   "execution_count": 5,
   "metadata": {
    "collapsed": true
   },
   "outputs": [],
   "source": [
    "#List and Taxes have a linear relationship, so I chose to use these variables\n",
    "#The target variable is Sell\n",
    "Beds = data['Beds'].values\n",
    "Living = data['Living'].values\n",
    "Rooms = data['Rooms'].values\n",
    "List = data['List'].values\n",
    "Taxes = data['Taxes'].values\n",
    "Baths = data['Baths'].values\n",
    "Age = data['Age'].values\n",
    "Acres = data['Acres'].values\n",
    "Sell = data['Sell'].values"
   ]
  },
  {
   "cell_type": "code",
   "execution_count": 6,
   "metadata": {
    "collapsed": true
   },
   "outputs": [],
   "source": [
    "#Need to genereate our X values and Y values\n",
    "\n",
    "#The amount of items in list \n",
    "N =  len(List)\n",
    "\n",
    "#Array of 1's\n",
    "x0 = np.ones(N)\n",
    "\n",
    "#Array(matrix) for our x values\n",
    "X = np.array([x0, List, Taxes]).T#Living, Rooms, Beds, Baths, Age, Acres, Taxes]).T\n",
    "\n",
    "#These are the starting coefficients for each column. Started with 0's. B = theta\n",
    "B = np.array([0, 0, 0])#, 0, 0, 0, 0, 0, 0, 0])\n",
    "\n",
    "#this is our target variable\n",
    "Y = np.array(Sell)\n",
    "\n",
    "#starting learning step\n",
    "alpha = .01\n"
   ]
  },
  {
   "cell_type": "code",
   "execution_count": 7,
   "metadata": {},
   "outputs": [
    {
     "data": {
      "text/plain": [
       "((34, 2), (15, 2), (34,), (15,))"
      ]
     },
     "execution_count": 7,
     "metadata": {},
     "output_type": "execute_result"
    }
   ],
   "source": [
    "#splitting data into train, validate, test sets\n",
    "# we can split the data using an sklearn function which does everything for us\n",
    "test_percent = 0.3 # why am I using .3 here?\n",
    "\n",
    "X_train, X_test, y_train, y_test = train_test_split(X, Y, test_size=test_percent)\n",
    "X_train.shape, X_test.shape, y_train.shape, y_test.shape"
   ]
  },
  {
   "cell_type": "code",
   "execution_count": 8,
   "metadata": {},
   "outputs": [
    {
     "data": {
      "text/plain": [
       "((10, 2), (10,), (5, 2), (5,))"
      ]
     },
     "execution_count": 8,
     "metadata": {},
     "output_type": "execute_result"
    }
   ],
   "source": [
    "#further\n",
    "test_percent = .33\n",
    "X_validation, X_test, y_validation, y_test = train_test_split(X_test, y_test, test_size=test_percent)\n",
    "X_validation.shape, y_validation.shape, X_test.shape, y_test.shape"
   ]
  },
  {
   "cell_type": "code",
   "execution_count": 22,
   "metadata": {},
   "outputs": [
    {
     "name": "stdout",
     "output_type": "stream",
     "text": [
      "19065.1764706\n"
     ]
    }
   ],
   "source": [
    "#Defining cost function J(theta)\n",
    "\n",
    "def cost_function(X, Y, B):\n",
    "    m = len(Y)\n",
    "    J = np.sum((X.dot(B) - Y)**2)/(2*m)\n",
    "    return J\n",
    "\n",
    "initial_cost = cost_function(X_train, y_train, B)\n",
    "print(initial_cost)"
   ]
  },
  {
   "cell_type": "code",
   "execution_count": 24,
   "metadata": {},
   "outputs": [
    {
     "name": "stdout",
     "output_type": "stream",
     "text": [
      "Values for predicted y (h):[ 0.  0.  0.  0.  0.  0.  0.  0.  0.  0.  0.  0.  0.  0.  0.  0.  0.  0.\n",
      "  0.  0.  0.  0.  0.  0.  0.  0.  0.  0.  0.  0.  0.  0.  0.  0.]\n",
      "Values for predicted y (h):[ 47483221.61117648  37964781.29588235  24791357.32676471\n",
      "  22855757.92117647  26503721.13470588  31776892.02705883\n",
      "  22584137.42147059  28622308.81441177  16988099.21588235\n",
      "  24818098.95558824  46267055.11676471  32296164.11147059\n",
      "  28251949.65941177  30702438.54264706  25406908.6282353   19787660.77147059\n",
      "  25162163.55382353  28884538.6332353   32033129.34617648\n",
      "  11732144.39117647  29251633.40352941  98934368.32264708  29340445.1082353\n",
      "  37544561.14235294  27159206.48411765  31082814.92970589\n",
      "  27037929.32764706  41839736.16264706  29619712.59941177\n",
      "  16661429.08058824  28381454.67588235  33467388.48382353\n",
      "  32715803.39647059  31806406.36970589]\n",
      "Values for predicted y (h):[ -8.42787633e+12  -6.73848592e+12  -4.40022217e+12  -4.05673551e+12\n",
      "  -4.70423253e+12  -5.64013508e+12  -4.00846202e+12  -5.08025809e+12\n",
      "  -3.01495394e+12  -4.40499783e+12  -8.21197163e+12  -5.73234278e+12\n",
      "  -5.01446642e+12  -5.44944691e+12  -4.50948257e+12  -3.51209851e+12\n",
      "  -4.46613246e+12  -5.12678825e+12  -5.68567387e+12  -2.08230979e+12\n",
      "  -5.19197569e+12  -1.75598973e+13  -5.20753344e+12  -6.66376730e+12\n",
      "  -4.82045944e+12  -5.51692369e+12  -4.79905631e+12  -7.42623135e+12\n",
      "  -5.25712504e+12  -2.95727468e+12  -5.03745400e+12  -5.94025151e+12\n",
      "  -5.80679506e+12  -5.64534712e+12]\n",
      "Values for predicted y (h):[  1.49588166e+18   1.19602817e+18   7.81004774e+17   7.20038597e+17\n",
      "   8.34964218e+17   1.00107955e+18   7.11470433e+17   9.01705793e+17\n",
      "   5.35130572e+17   7.81852416e+17   1.45756028e+18   1.01744569e+18\n",
      "   8.90028289e+17   9.67233900e+17   8.00397634e+17   6.23369820e+17\n",
      "   7.92703332e+17   9.09964530e+17   1.00916233e+18   3.69593584e+17\n",
      "   9.21534787e+17   3.11674345e+18   9.24296164e+17   1.18276620e+18\n",
      "   8.55593579e+17   9.79210497e+17   8.51794692e+17   1.31809757e+18\n",
      "   9.33098282e+17   5.24892960e+17   8.94108404e+17   1.05434785e+18\n",
      "   1.03066038e+18   1.00200464e+18]\n",
      "Values for predicted y (h):[ -2.65507211e+23  -2.12285579e+23  -1.38622195e+23  -1.27801179e+23\n",
      "  -1.48199571e+23  -1.77683734e+23  -1.26280397e+23  -1.60045675e+23\n",
      "  -9.49814612e+22  -1.38772645e+23  -2.58705468e+23  -1.80588595e+23\n",
      "  -1.57973010e+23  -1.71676398e+23  -1.42064275e+23  -1.10643233e+23\n",
      "  -1.40698597e+23  -1.61511536e+23  -1.79118363e+23  -6.55999498e+22\n",
      "  -1.63565166e+23  -5.53197411e+23  -1.64055288e+23  -2.09931684e+23\n",
      "  -1.51861121e+23  -1.73802150e+23  -1.51186848e+23  -2.33951935e+23\n",
      "  -1.65617595e+23  -9.31643658e+22  -1.58697199e+23  -1.87138438e+23\n",
      "  -1.82934099e+23  -1.77847931e+23]\n",
      "Values for predicted y (h):[  4.71254386e+28   3.76790181e+28   2.46043477e+28   2.26837026e+28\n",
      "   2.63042565e+28   3.15374632e+28   2.24137758e+28   2.84068467e+28\n",
      "   1.68584612e+28   2.46310514e+28   4.59181826e+28   3.20530531e+28\n",
      "   2.80389650e+28   3.04712083e+28   2.52152898e+28   1.96383022e+28\n",
      "   2.49728927e+28   2.86670254e+28   3.17920986e+28   1.16434744e+28\n",
      "   2.90315285e+28   9.81881828e+28   2.91185214e+28   3.72612203e+28\n",
      "   2.69541527e+28   3.08485125e+28   2.68344746e+28   4.15246256e+28\n",
      "   2.93958185e+28   1.65359411e+28   2.81675027e+28   3.32155987e+28\n",
      "   3.24693616e+28   3.15666068e+28]\n",
      "Values for predicted y (h):[ -8.36439413e+33  -6.68772891e+33  -4.36707790e+33  -4.02617852e+33\n",
      "  -4.66879833e+33  -5.59765128e+33  -3.97826865e+33  -5.04199152e+33\n",
      "  -2.99224406e+33  -4.37181759e+33  -8.15011571e+33  -5.68916444e+33\n",
      "  -4.97669541e+33  -5.40839945e+33  -4.47551531e+33  -3.48564395e+33\n",
      "  -4.43249173e+33  -5.08817119e+33  -5.64284706e+33  -2.06662498e+33\n",
      "  -5.15286762e+33  -1.74276290e+34  -5.16830817e+33  -6.61357309e+33\n",
      "  -4.78414977e+33  -5.47536797e+33  -4.76290786e+33  -7.37029395e+33\n",
      "  -5.21752623e+33  -2.93499928e+33  -4.99950984e+33  -5.89550711e+33\n",
      "  -5.76305591e+33  -5.60282406e+33]\n",
      "Values for predicted y (h):[  1.48461407e+39   1.18701920e+39   7.75121928e+38   7.14614973e+38\n",
      "   8.28674927e+38   9.93539009e+38   7.06111347e+38   8.94913778e+38\n",
      "   5.31099750e+38   7.75963185e+38   1.44658134e+39   1.00978187e+39\n",
      "   8.83324233e+38   9.59948300e+38   7.94368712e+38   6.18674345e+38\n",
      "   7.86732367e+38   9.03110306e+38   1.00156090e+39   3.66809655e+38\n",
      "   9.14593412e+38   3.09326687e+39   9.17333989e+38   1.17385713e+39\n",
      "   8.49148899e+38   9.71834685e+38   8.45378627e+38   1.30816912e+39\n",
      "   9.26069806e+38   5.20939253e+38   8.87373615e+38   1.04640607e+39\n",
      "   1.02289703e+39   9.94457136e+38]\n",
      "Values for predicted y (h):[ -2.63507303e+44  -2.10686558e+44  -1.37578036e+44  -1.26838529e+44\n",
      "  -1.47083272e+44  -1.76345348e+44  -1.25329202e+44  -1.58840146e+44\n",
      "  -9.42660221e+43  -1.37727353e+44  -2.56756792e+44  -1.79228328e+44\n",
      "  -1.56783093e+44  -1.70383262e+44  -1.40994189e+44  -1.09809823e+44\n",
      "  -1.39638798e+44  -1.60294965e+44  -1.77769171e+44  -6.51058243e+43\n",
      "  -1.62333126e+44  -5.49030502e+44  -1.62819557e+44  -2.08350393e+44\n",
      "  -1.50717241e+44  -1.72493001e+44  -1.50048047e+44  -2.32189714e+44\n",
      "  -1.64370096e+44  -9.24626138e+43  -1.57501827e+44  -1.85728835e+44\n",
      "  -1.81556165e+44  -1.76508308e+44]\n",
      "Values for predicted y (h):[  4.67704706e+49   3.73952044e+49   2.44190177e+49   2.25128397e+49\n",
      "   2.61061222e+49   3.12999101e+49   2.22449461e+49   2.81928747e+49\n",
      "   1.67314764e+49   2.44455202e+49   4.55723081e+49   3.18116164e+49\n",
      "   2.78277640e+49   3.02416868e+49   2.50253579e+49   1.94903785e+49\n",
      "   2.47847867e+49   2.84510937e+49   3.15526275e+49   1.15557710e+49\n",
      "   2.88128512e+49   9.74485894e+49   2.88991888e+49   3.69805536e+49\n",
      "   2.67511230e+49   3.06161489e+49   2.66323464e+49   4.12118452e+49\n",
      "   2.91743972e+49   1.64113856e+49   2.79553336e+49   3.29654052e+49\n",
      "   3.22247891e+49   3.13288343e+49]\n",
      "Values for predicted y (h):[ -8.30139011e+54  -6.63735420e+54  -4.33418329e+54  -3.99585171e+54\n",
      "  -4.63363104e+54  -5.55548749e+54  -3.94830271e+54  -5.00401318e+54\n",
      "  -2.96970526e+54  -4.33888728e+54  -8.08872571e+54  -5.64631133e+54\n",
      "  -4.93920891e+54  -5.36766118e+54  -4.44180390e+54  -3.45938866e+54\n",
      "  -4.39910440e+54  -5.04984501e+54  -5.60034284e+54  -2.05105832e+54\n",
      "  -5.11405412e+54  -1.72963570e+55  -5.12937837e+54  -6.56375696e+54\n",
      "  -4.74811361e+54  -5.43412527e+54  -4.72703170e+54  -7.31477789e+54\n",
      "  -5.17822569e+54  -2.91289167e+54  -4.96185150e+54  -5.85109975e+54\n",
      "  -5.71964623e+54  -5.56062130e+54]\n",
      "Values for predicted y (h):[  1.47343135e+60   1.17807809e+60   7.69283393e+59   7.09232202e+59\n",
      "   8.22433010e+59   9.86055268e+59   7.00792629e+59   8.88172922e+59\n",
      "   5.27099291e+59   7.70118314e+59   1.43568510e+60   1.00217578e+60\n",
      "   8.76670675e+59   9.52717578e+59   7.88385203e+59   6.14014237e+59\n",
      "   7.80806378e+59   8.96307711e+59   9.94016738e+59   3.64046695e+59\n",
      "   9.07704321e+59   3.06996712e+60   9.10424255e+59   1.16501516e+60\n",
      "   8.42752763e+59   9.64514430e+59   8.39010891e+59   1.29831546e+60\n",
      "   9.19094271e+59   5.17015326e+59   8.80689555e+59   1.03852412e+60\n",
      "   1.01519215e+60   9.86966479e+59]\n",
      "Values for predicted y (h):[ -2.61522459e+65  -2.09099581e+65  -1.36541743e+65  -1.25883129e+65\n",
      "  -1.45975381e+65  -1.75017043e+65  -1.24385171e+65  -1.57643697e+65\n",
      "  -9.35559720e+64  -1.36689934e+65  -2.54822796e+65  -1.77878307e+65\n",
      "  -1.55602139e+65  -1.69099865e+65  -1.39932163e+65  -1.08982690e+65\n",
      "  -1.38586982e+65  -1.59087558e+65  -1.76430141e+65  -6.46154207e+64\n",
      "  -1.61110367e+65  -5.44894981e+65  -1.61593134e+65  -2.06781013e+65\n",
      "  -1.49581977e+65  -1.71193714e+65  -1.48917824e+65  -2.30440766e+65\n",
      "  -1.63131993e+65  -9.17661477e+64  -1.56315459e+65  -1.84329850e+65\n",
      "  -1.80188610e+65  -1.75178776e+65]\n",
      "Values for predicted y (h):[  4.64181763e+70   3.71135284e+70   2.42350837e+70   2.23432638e+70\n",
      "   2.59094802e+70   3.10641465e+70   2.20773881e+70   2.79805145e+70\n",
      "   1.66054481e+70   2.42613866e+70   4.52290389e+70   3.15719984e+70\n",
      "   2.76181540e+70   3.00138941e+70   2.48368567e+70   1.93435691e+70\n",
      "   2.45980976e+70   2.82367884e+70   3.13149603e+70   1.14687282e+70\n",
      "   2.85958210e+70   9.67145669e+70   2.86815083e+70   3.67020010e+70\n",
      "   2.65496226e+70   3.03855356e+70   2.64317407e+70   4.09014208e+70\n",
      "   2.89546438e+70   1.62877684e+70   2.77447626e+70   3.27170964e+70\n",
      "   3.19820589e+70   3.10928527e+70]\n",
      "Values for predicted y (h):[ -8.23886065e+75  -6.58735895e+75  -4.30153646e+75  -3.96575332e+75\n",
      "  -4.59872864e+75  -5.51364130e+75  -3.91856248e+75  -4.96632092e+75\n",
      "  -2.94733623e+75  -4.30620501e+75  -8.02779813e+75  -5.60378101e+75\n",
      "  -4.90200478e+75  -5.32722977e+75  -4.40834642e+75  -3.43333114e+75\n",
      "  -4.36596855e+75  -5.01180752e+75  -5.55815877e+75  -2.03560891e+75\n",
      "  -5.07553298e+75  -1.71660738e+76  -5.09074180e+75  -6.51431607e+75\n",
      "  -4.71234888e+75  -5.39319322e+75  -4.69142577e+75  -7.25968000e+75\n",
      "  -5.13922119e+75  -2.89095058e+75  -4.92447681e+75  -5.80702688e+75\n",
      "  -5.67656352e+75  -5.51873644e+75]\n",
      "[  1.20371836e+76   2.49288028e+77]\n",
      "[582842810317013.62, 1.8361561462347409e+25, 5.7845260061352769e+35, 1.8223254696650185e+46, 5.7409545982982757e+56, 1.8085989713890453e+67, 5.6977113880662068e+77, 1.7949758666934506e+88, 5.6547939033209327e+98, 1.7814553767756371e+109, 5.6121996905653023e+119, 1.7680367286992711e+130, 5.5699263147829186e+140, 1.7547191553500894e+151, 5.5279713592989123e+161]\n"
     ]
    }
   ],
   "source": [
    "#now we need to define out Gradient Descent function\n",
    "\n",
    "def gradient_descent(X, Y, B, alpha, iterations):\n",
    "    cost_history = [0] * iterations\n",
    "    N = float(len(Y))\n",
    "    \n",
    "    for iteration in range(iterations):\n",
    "       # print(\"Value for B:\" + str(B))\n",
    "        #print(\"value for X: \" + str(X))\n",
    "        #print(\"value for Y: \" + str(Y))\n",
    "\n",
    "\n",
    "        #Predicted value\n",
    "        h = X.dot(B)\n",
    "        print(\"Values for predicted y (h):\" + str(h))\n",
    "       # print(\"value for Y: \" + str(Y))\n",
    "\n",
    "        #get predicted minus new\n",
    "        difference = h - Y\n",
    "       # print(\"Value for  pred_y-y :\" + str(sumy_xtheta))\n",
    "        #print(\"value for X: \" + str(X))\n",
    "        \n",
    "        #gradient calculation\n",
    "        gradient = (difference.T.dot(X)) / (N)\n",
    "        F = X.T.dot(difference)\n",
    "       # print\n",
    "       # print\n",
    "       # print(\"The value of X dot pred_(F): \" + str(F))\n",
    "       # print(\"The value of N :\" + str(N))\n",
    "       # print(\"The gradient is: \" + str(gradient))\n",
    "        \n",
    "        #update gradient\n",
    "        B = B - (alpha * gradient)\n",
    "        \n",
    "       # print(\"B AGAIN (alpha is .7): \" +str(B))\n",
    "        \n",
    "        #New Cost Value\n",
    "        cost = cost_function(X, Y, B)\n",
    "        cost_history[iteration] = cost\n",
    "    return B, cost_history\n",
    "\n",
    "newB, cost_history = gradient_descent(X_train, y_train, B, alpha, 15)\n",
    "\n",
    "print(newB)\n",
    "print(cost_history)\n"
   ]
  },
  {
   "cell_type": "code",
   "execution_count": 17,
   "metadata": {},
   "outputs": [
    {
     "name": "stdout",
     "output_type": "stream",
     "text": [
      "[ 152.  185.  165.  111.  135.]\n",
      "[ -2.56328048e+76  -2.87210442e+76  -1.69557675e+76  -2.44328475e+76\n",
      "  -2.56443496e+76]\n"
     ]
    }
   ],
   "source": [
    "Y_pred = X_test.dot(newB)\n",
    "print y_test\n",
    "print Y_pred"
   ]
  },
  {
   "cell_type": "code",
   "execution_count": null,
   "metadata": {
    "collapsed": true
   },
   "outputs": [],
   "source": []
  }
 ],
 "metadata": {
  "kernelspec": {
   "display_name": "Python 2",
   "language": "python",
   "name": "python2"
  },
  "language_info": {
   "codemirror_mode": {
    "name": "ipython",
    "version": 2
   },
   "file_extension": ".py",
   "mimetype": "text/x-python",
   "name": "python",
   "nbconvert_exporter": "python",
   "pygments_lexer": "ipython2",
   "version": "2.7.13"
  }
 },
 "nbformat": 4,
 "nbformat_minor": 2
}
