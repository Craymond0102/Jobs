{
 "cells": [
  {
   "cell_type": "markdown",
   "metadata": {},
   "source": [
    "NAIVE BAYES\n"
   ]
  },
  {
   "cell_type": "code",
   "execution_count": 2,
   "metadata": {
    "collapsed": true
   },
   "outputs": [],
   "source": [
    "import pandas as pd"
   ]
  },
  {
   "cell_type": "markdown",
   "metadata": {},
   "source": [
    "\n",
    "In order to reduce my email load, I decide to implement a machine learning algorithm to decide whether or not I should read an email, or simply file it away instead. To train my model, I obtain the following data set of binary-valued features about each email, including whether I know the author or not, whether the email is long or short, and whether it has any of several key words, along with my final decision about whether to read it ( y = +1 for “read”, y = -1 for “discard”)."
   ]
  },
  {
   "cell_type": "code",
   "execution_count": 3,
   "metadata": {},
   "outputs": [
    {
     "data": {
      "text/html": [
       "<div>\n",
       "<style>\n",
       "    .dataframe thead tr:only-child th {\n",
       "        text-align: right;\n",
       "    }\n",
       "\n",
       "    .dataframe thead th {\n",
       "        text-align: left;\n",
       "    }\n",
       "\n",
       "    .dataframe tbody tr th {\n",
       "        vertical-align: top;\n",
       "    }\n",
       "</style>\n",
       "<table border=\"1\" class=\"dataframe\">\n",
       "  <thead>\n",
       "    <tr style=\"text-align: right;\">\n",
       "      <th></th>\n",
       "      <th>author</th>\n",
       "      <th>long</th>\n",
       "      <th>research</th>\n",
       "      <th>grade</th>\n",
       "      <th>lottery</th>\n",
       "      <th>read</th>\n",
       "    </tr>\n",
       "  </thead>\n",
       "  <tbody>\n",
       "    <tr>\n",
       "      <th>0</th>\n",
       "      <td>0</td>\n",
       "      <td>0</td>\n",
       "      <td>1</td>\n",
       "      <td>1</td>\n",
       "      <td>0</td>\n",
       "      <td>-1</td>\n",
       "    </tr>\n",
       "    <tr>\n",
       "      <th>1</th>\n",
       "      <td>1</td>\n",
       "      <td>1</td>\n",
       "      <td>0</td>\n",
       "      <td>1</td>\n",
       "      <td>0</td>\n",
       "      <td>-1</td>\n",
       "    </tr>\n",
       "    <tr>\n",
       "      <th>2</th>\n",
       "      <td>0</td>\n",
       "      <td>1</td>\n",
       "      <td>1</td>\n",
       "      <td>1</td>\n",
       "      <td>1</td>\n",
       "      <td>-1</td>\n",
       "    </tr>\n",
       "    <tr>\n",
       "      <th>3</th>\n",
       "      <td>1</td>\n",
       "      <td>1</td>\n",
       "      <td>1</td>\n",
       "      <td>1</td>\n",
       "      <td>0</td>\n",
       "      <td>-1</td>\n",
       "    </tr>\n",
       "    <tr>\n",
       "      <th>4</th>\n",
       "      <td>0</td>\n",
       "      <td>1</td>\n",
       "      <td>0</td>\n",
       "      <td>0</td>\n",
       "      <td>0</td>\n",
       "      <td>-1</td>\n",
       "    </tr>\n",
       "    <tr>\n",
       "      <th>5</th>\n",
       "      <td>1</td>\n",
       "      <td>0</td>\n",
       "      <td>1</td>\n",
       "      <td>1</td>\n",
       "      <td>1</td>\n",
       "      <td>1</td>\n",
       "    </tr>\n",
       "    <tr>\n",
       "      <th>6</th>\n",
       "      <td>0</td>\n",
       "      <td>0</td>\n",
       "      <td>1</td>\n",
       "      <td>0</td>\n",
       "      <td>0</td>\n",
       "      <td>1</td>\n",
       "    </tr>\n",
       "    <tr>\n",
       "      <th>7</th>\n",
       "      <td>1</td>\n",
       "      <td>0</td>\n",
       "      <td>0</td>\n",
       "      <td>0</td>\n",
       "      <td>0</td>\n",
       "      <td>1</td>\n",
       "    </tr>\n",
       "    <tr>\n",
       "      <th>8</th>\n",
       "      <td>1</td>\n",
       "      <td>0</td>\n",
       "      <td>1</td>\n",
       "      <td>1</td>\n",
       "      <td>0</td>\n",
       "      <td>1</td>\n",
       "    </tr>\n",
       "    <tr>\n",
       "      <th>9</th>\n",
       "      <td>1</td>\n",
       "      <td>1</td>\n",
       "      <td>1</td>\n",
       "      <td>1</td>\n",
       "      <td>1</td>\n",
       "      <td>-1</td>\n",
       "    </tr>\n",
       "  </tbody>\n",
       "</table>\n",
       "</div>"
      ],
      "text/plain": [
       "   author  long  research  grade  lottery  read\n",
       "0       0     0         1      1        0    -1\n",
       "1       1     1         0      1        0    -1\n",
       "2       0     1         1      1        1    -1\n",
       "3       1     1         1      1        0    -1\n",
       "4       0     1         0      0        0    -1\n",
       "5       1     0         1      1        1     1\n",
       "6       0     0         1      0        0     1\n",
       "7       1     0         0      0        0     1\n",
       "8       1     0         1      1        0     1\n",
       "9       1     1         1      1        1    -1"
      ]
     },
     "execution_count": 3,
     "metadata": {},
     "output_type": "execute_result"
    }
   ],
   "source": [
    "D = [[0,0,1,1,0,-1],[1,1,0,1,0,-1],[0,1,1,1,1,-1],[1,1,1,1,0,-1],[0,1,0,0,0,-1],[1,0,1,1,1,1],[0,0,1,0,0,1],[1,0,0,0,0,1],[1,0,1,1,0,1],[1,1,1,1,1,-1]]\n",
    "df = pd.DataFrame(data=D, columns=['author','long','research','grade','lottery','read'])\n",
    "\n",
    "df"
   ]
  },
  {
   "cell_type": "markdown",
   "metadata": {},
   "source": [
    "In the case of any ties, we will prefer to predict class +1. I decide to try a naïve Bayes classifier to make my decisions and compute my uncertainty.\n",
    "\n",
    "Q: Compute all the probabilities necessary for a naïve Bayes classifier, i.e., the class probability p( y) and all the individual feature probabilities p(xi j y), for each class y and feature xi"
   ]
  },
  {
   "cell_type": "code",
   "execution_count": 13,
   "metadata": {
    "collapsed": true
   },
   "outputs": [],
   "source": [
    "# Author\n",
    "P_Author = 6/10\n",
    "P_NoAuthor = 4/10\n",
    "P_Author_GivenY = 3/4\n",
    "P_NoAuthor_GivenY = 1/4\n",
    "P_Author_GivenN = 3/6\n",
    "P_NoAuthor_GivenN = 3/6\n",
    "\n",
    "# Long\n",
    "P_Long = 5/10\n",
    "P_NotLong = 5/10\n",
    "P_Long_GivenY = 0/4\n",
    "P_NotLong_GivenY = 4/4\n",
    "P_Long_GivenN = 5/6\n",
    "P_NotLong_N = 1/6\n",
    "\n",
    "# Research\n",
    "P_Research = 7/10\n",
    "P_NoResearch = 3/10\n",
    "P_Research_GivenY = 3/4\n",
    "P_NoResearch_GivenY = 1/4\n",
    "P_Research_GivenN = 4/6\n",
    "P_NoResearch_GivenN = 2/6\n",
    "\n",
    "# Grade\n",
    "P_Grade = 7/10\n",
    "P_NoGrade = 3/10\n",
    "P_Grade_GivenY = 2/4\n",
    "P_NoGrade_GivenY = 2/4\n",
    "P_Grade_GivenN = 5/6\n",
    "P_NoGrade_GivenN = 1/6\n",
    "\n",
    "# Lottery\n",
    "P_Lottery = 3/10\n",
    "P_NoLottery = 7/10\n",
    "P_Lottery_GivenY = 1/4\n",
    "P_NoLottery_GivenY = 3/4\n",
    "P_Lottery_GivenN = 2/6\n",
    "P_NoLottery_N = 4/6\n",
    "\n",
    "# Yes Or No\n",
    "P_Yes = 4/10\n",
    "P_No = 6/10"
   ]
  },
  {
   "cell_type": "markdown",
   "metadata": {},
   "source": [
    "Q: Which class would be predicted for x = (0 0 0 0 0)? What about for x = (1 1 0 1 0)?"
   ]
  },
  {
   "cell_type": "code",
   "execution_count": 42,
   "metadata": {},
   "outputs": [
    {
     "name": "stdout",
     "output_type": "stream",
     "text": [
      "Prediction for Part One|Email is read = 0.009375\n",
      "Prediction for Part One|Email is not read = 0.00185185185185\n",
      "Prediction for Part two|Email is read = 0.0\n",
      "Prediction for Part two|Email is not read = 0.0462962962963\n"
     ]
    }
   ],
   "source": [
    "#Because all of the bellow equations will use the same denominator, we ommitt it\n",
    "\n",
    "#P(Author = 0 && Long = 0 && research = 0 && Grade = 0 && Lottery = 0 | Email = Yes)\n",
    "#P_NoAuthor_GivenY = 1/4 P_NotLong_GivenY = 4/4 P_NoResearch_GivenY = 1/4  \n",
    "#P_NoGrade_GivenY = 2/4 P_NoLottery_GivenY = 3/4  P_Yes = 4/10\n",
    "#multiply them all together\n",
    "prediction_part1_Yes = float((1.0/4) * (4.0/4) * (1.0/4) * (2.0/4) * (3.0/4) * (4.0/10))\n",
    "print(\"Prediction for Part One|Email is read = \" + str(prediction_part1_Yes))\n",
    "\n",
    "#P(Author = 0 && Long = 0 && research = 0 && Grade = 0 && Lottery = 0 | Email = No)\n",
    "#P_NoAuthor_GivenN = 3/6  P_NotLong_N = 1/6 P_NoResearch_GivenN = 2/6 \n",
    "#P_NoGrade_GivenN = 1/6 P_NoLottery_N = 4/6 P_No = 6/10 \n",
    "#multiply them all together\n",
    "prediction_part1_No = (3.0/6) * (1.0/6) * (2.0/6) * (1.0/6) * (4.0/6) * (6.0/10)\n",
    "print(\"Prediction for Part One|Email is not read = \" + str(prediction_part1_No))\n",
    "\n",
    "#PART TWO\n",
    "#P(Author = 1 && Long = 1 && research = 0 && Grade = 1 && Lottery = 0 | Email = Yes)\n",
    "#P_Author_GivenY = 3/4 P_Long_GivenY = 0/4 P_NoResearch_GivenY = 1/4 P_Grade_GivenY = 2/4 P_NoLottery_GivenY = 3/4 P_Yes = 4/10\n",
    "prediction_part2_Yes = (3.0/4) * (0/4.0) * (1.0/4) * (2.0/4) * (3.0/4) * (4.0/10)\n",
    "print(\"Prediction for Part two|Email is read = \" + str(prediction_part2_Yes))\n",
    "\n",
    "#P(Author = 1 && Long = 1 && research = 0 && Grade = 1 && Lottery = 0 | Email = No)\n",
    "#P_Author_GivenN = 3/6  P_Long_N = 5/6 P_NoResearch_GivenN = 2/6 \n",
    "#P_Grade_GivenN = 5/6 P_NoLottery_N = 4/6 P_No = 6/10 \n",
    "prediction_part2_No = (3.0/6)*(5.0/6)*(2.0/6)*(5.0/6)*(4.0/6)*(6.0/10)\n",
    "print(\"Prediction for Part two|Email is not read = \" + str(prediction_part2_No))\n"
   ]
  },
  {
   "cell_type": "markdown",
   "metadata": {},
   "source": [
    "Q: Compute the posterior probability that y = +1 given the observation x = (1 1 0 1 0)."
   ]
  },
  {
   "cell_type": "code",
   "execution_count": 43,
   "metadata": {
    "collapsed": true
   },
   "outputs": [],
   "source": [
    "numerator = float((3.0/4) * (0.0/4) * (1.0/4) * (2.0/4) * (3.0/4) * (4.0/10))\n",
    "denomenator = (6.0/10)*(5.0/10)*(3.0/10)*(7.0/10)*(7.0/10)\n",
    "#prediction = numerator / denomenator\n",
    "\n",
    "#The Numerator is 0, thus, the overall expression is 0"
   ]
  },
  {
   "cell_type": "markdown",
   "metadata": {},
   "source": [
    "Q: Why should we probably not use a “joint” Bayes classifier (using the joint probability of the features x, as opposed to a naïve Bayes classifier) for these data?"
   ]
  },
  {
   "cell_type": "code",
   "execution_count": null,
   "metadata": {
    "collapsed": true
   },
   "outputs": [],
   "source": [
    "#We should not use a “joint” Bayes classifier \n",
    "# (using the joint probability of the features x, as opposed to a naïve Bayes classifier) because\n",
    "# the probability of the exact instance happening is very low. It is also very expensive \n",
    "# for the computer to have to run through the entire data set if there is a large N"
   ]
  },
  {
   "cell_type": "markdown",
   "metadata": {},
   "source": [
    "Q: Suppose that, before we make our predictions, we lose access to my address book, so that we cannot tell whether the email author is known. Should we re-train the model, and if so, how? (e.g.: how does the model, and its parameters, change in this new situation?) Hint: what will the naïve Bayes model over only features x2 . . . x5 look like, and what will its parameters be?"
   ]
  },
  {
   "cell_type": "code",
   "execution_count": null,
   "metadata": {
    "collapsed": true
   },
   "outputs": [],
   "source": [
    "# Yes, we should re-train the model. Lossing a feature would effect our overall data, requiring our model to be\n",
    "# re-trained to fit the data."
   ]
  }
 ],
 "metadata": {
  "kernelspec": {
   "display_name": "Python 2",
   "language": "python",
   "name": "python2"
  },
  "language_info": {
   "codemirror_mode": {
    "name": "ipython",
    "version": 2
   },
   "file_extension": ".py",
   "mimetype": "text/x-python",
   "name": "python",
   "nbconvert_exporter": "python",
   "pygments_lexer": "ipython2",
   "version": "2.7.13"
  }
 },
 "nbformat": 4,
 "nbformat_minor": 2
}
