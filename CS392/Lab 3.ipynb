{
 "cells": [
  {
   "cell_type": "markdown",
   "metadata": {
    "collapsed": true
   },
   "source": [
    "LAB 3: Linear Regression"
   ]
  },
  {
   "cell_type": "code",
   "execution_count": 2,
   "metadata": {
    "collapsed": true
   },
   "outputs": [],
   "source": [
    "import numpy as np\n",
    "import pandas as pd\n",
    "import matplotlib.pyplot as plt\n",
    "from sklearn.model_selection import train_test_split\n",
    "from sklearn import datasets, linear_model\n",
    "from sklearn.metrics import mean_squared_error, r2_score\n"
   ]
  },
  {
   "cell_type": "code",
   "execution_count": 3,
   "metadata": {
    "collapsed": true
   },
   "outputs": [],
   "source": [
    "#Load in the data\n",
    "#The data is a csv file of houses on the market. Variables include selling price,\n",
    "#list price, living, rooms, beds, bath, age of house, land, and taxes\n",
    "\n",
    "url = \"https://people.sc.fsu.edu/~jburkardt/data/csv/homes.csv\"\n",
    "names = ['Sell', 'List', 'Living', 'Rooms', 'Beds', 'Baths', 'Age', 'Acres', 'Taxes']\n",
    "myData = pd.read_csv(url, header= 0, names=names, dtype = np.float64)\n",
    "myData = myData.drop(labels = 0, axis=0)"
   ]
  },
  {
   "cell_type": "code",
   "execution_count": 4,
   "metadata": {},
   "outputs": [
    {
     "data": {
      "text/plain": [
       "(49, 9)"
      ]
     },
     "execution_count": 4,
     "metadata": {},
     "output_type": "execute_result"
    }
   ],
   "source": [
    "myData.head()\n",
    "#x = myData.data[:, :2]\n",
    "#y = myData.target\n",
    "myData.shape\n",
    "#print myData"
   ]
  },
  {
   "cell_type": "code",
   "execution_count": 5,
   "metadata": {},
   "outputs": [
    {
     "data": {
      "text/plain": [
       "(49, 8)"
      ]
     },
     "execution_count": 5,
     "metadata": {},
     "output_type": "execute_result"
    }
   ],
   "source": [
    "#The features are everything except Sell\n",
    "#The sell column is our target variable\n",
    "X = myData.drop([\"Sell\"], axis = 1)\n",
    "y = myData.Sell\n",
    "X.shape"
   ]
  },
  {
   "cell_type": "code",
   "execution_count": 6,
   "metadata": {},
   "outputs": [
    {
     "data": {
      "text/plain": [
       "((34, 8), (15, 8), (34,), (15,))"
      ]
     },
     "execution_count": 6,
     "metadata": {},
     "output_type": "execute_result"
    }
   ],
   "source": [
    "# we can split the data using an sklearn function which does everything for us\n",
    "test_percent = 0.3 # why am I using .3 here?\n",
    "\n",
    "X_train, X_test, y_train, y_test = train_test_split(X, y, test_size=test_percent)\n",
    "X_train.shape, X_test.shape, y_train.shape, y_test.shape"
   ]
  },
  {
   "cell_type": "code",
   "execution_count": 7,
   "metadata": {},
   "outputs": [
    {
     "data": {
      "text/plain": [
       "((5, 8), (5,))"
      ]
     },
     "execution_count": 7,
     "metadata": {},
     "output_type": "execute_result"
    }
   ],
   "source": [
    "test_percent = .33\n",
    "X_validation, X_test, y_validation, y_test = train_test_split(X_test, y_test, test_size=test_percent)\n",
    "X_test.shape, y_test.shape"
   ]
  },
  {
   "cell_type": "code",
   "execution_count": 8,
   "metadata": {},
   "outputs": [
    {
     "name": "stdout",
     "output_type": "stream",
     "text": [
      "[ 112.7133342   153.63268297  599.06606452  166.26974215  161.91688576\n",
      "  233.83290248  139.18157415  109.24599739  175.15165125  133.87621514]\n",
      "[  9.87439945e-01   6.27985678e-02  -2.76676313e+00   4.28659382e+00\n",
      "   2.85812792e-01  -1.98194663e-02  -7.71379520e-01  -1.20193019e-03]\n",
      "Root mean squared error: 11.2711843066\n",
      "R2: 0.992327155357\n"
     ]
    }
   ],
   "source": [
    "regr = linear_model.LinearRegression()\n",
    "regr.fit(X_train, y_train)\n",
    "\n",
    "data_prediction_validate = regr.predict(X_validation)\n",
    "\n",
    "rmse = np.sqrt(mean_squared_error(y_validation, data_prediction_validate))\n",
    "r2 = regr.score(X_validation, y_validation)\n",
    "print data_prediction_validate\n",
    "print regr.coef_\n",
    "print(\"Root mean squared error: \" + str(rmse))\n",
    "print(\"R2: \" + str(r2))\n",
    "#print('Coefficients: ', regr.coef_)\n",
    "#print(\"Mean squared error: %.2f\"\n",
    "     # % mean_squared_error(y_test, data_prediction))"
   ]
  },
  {
   "cell_type": "code",
   "execution_count": 9,
   "metadata": {},
   "outputs": [
    {
     "name": "stdout",
     "output_type": "stream",
     "text": [
      "     List  Living  Rooms  Beds  Baths   Age  Acres   Taxes\n",
      "27  145.0    18.0    7.0   4.0    1.0  35.0   0.43  3363.0\n",
      "2   132.0    13.0    6.0   3.0    1.0  41.0   0.33  1471.0\n",
      "20  190.0    24.0    9.0   4.0    2.0  10.0   1.55  4681.0\n",
      "7   225.0    22.0    8.0   4.0    2.0  16.0   2.22  5158.0\n",
      "24  190.0    21.0    9.0   5.0    2.0  27.0   1.30  4162.0\n",
      "27    135.0\n",
      "2     129.0\n",
      "20    180.0\n",
      "7     207.0\n",
      "24    184.0\n",
      "Name: Sell, dtype: float64\n"
     ]
    }
   ],
   "source": [
    "print X_test\n",
    "print y_test"
   ]
  },
  {
   "cell_type": "code",
   "execution_count": 10,
   "metadata": {},
   "outputs": [
    {
     "name": "stdout",
     "output_type": "stream",
     "text": [
      "[ 142.73718868  130.29891894  180.34846174  216.34096402  184.92637558]\n",
      "[  9.87439945e-01   6.27985678e-02  -2.76676313e+00   4.28659382e+00\n",
      "   2.85812792e-01  -1.98194663e-02  -7.71379520e-01  -1.20193019e-03]\n",
      "Root mean squared error: 5.47328941665\n",
      "R2: 0.966905769953\n"
     ]
    }
   ],
   "source": [
    "data_prediction_test = regr.predict(X_test)\n",
    "\n",
    "rmse = np.sqrt(mean_squared_error(y_test, data_prediction_test))\n",
    "r2 = regr.score(X_test, y_test)\n",
    "print data_prediction_test\n",
    "print regr.coef_\n",
    "print(\"Root mean squared error: \" + str(rmse))\n",
    "print(\"R2: \" + str(r2))"
   ]
  },
  {
   "cell_type": "code",
   "execution_count": 11,
   "metadata": {
    "collapsed": true
   },
   "outputs": [],
   "source": [
    "# 4a) the results show that our predicted values are very similar to the actual values, and we get a very nice R squared\n",
    "#We were able to calculare the coefficients for each feature and accurately predict the output.\n",
    "#Its hard to see if the data has a linear relationship because there are 8 features which would produce a picture \n",
    "#Many dimensions\n",
    "#b) The coefficients all look very reasonable, mostly values between 0 and 5\n",
    "#5) THe sklearn function we would use would be .Ridge()"
   ]
  },
  {
   "cell_type": "code",
   "execution_count": 12,
   "metadata": {
    "collapsed": true
   },
   "outputs": [],
   "source": [
    "#6) On this part I did not work with anyone. I completed using your content and online resources"
   ]
  },
  {
   "cell_type": "markdown",
   "metadata": {},
   "source": [
    "# EXTRA CREDIT"
   ]
  },
  {
   "cell_type": "code",
   "execution_count": 13,
   "metadata": {},
   "outputs": [
    {
     "data": {
      "text/plain": [
       "((10, 3), (10,), (5, 3), (5,))"
      ]
     },
     "execution_count": 13,
     "metadata": {},
     "output_type": "execute_result"
    }
   ],
   "source": [
    "import numpy as np\n",
    "import pandas as pd\n",
    "import matplotlib.pyplot as plt\n",
    "from sklearn.model_selection import train_test_split\n",
    "from sklearn import datasets, linear_model\n",
    "from sklearn.metrics import mean_squared_error, r2_score\n",
    "from pandas.plotting import scatter_matrix\n",
    "\n",
    "#Load in the data\n",
    "url = \"https://people.sc.fsu.edu/~jburkardt/data/csv/homes.csv\"\n",
    "names = ['Sell', 'List', 'Living', 'Rooms', 'Beds', 'Baths', 'Age', 'Acres', 'Taxes']\n",
    "data = pd.read_csv(url, header= 0, names=names, dtype = np.float64)\n",
    "data = data.drop(labels = 0, axis=0)\n",
    "\n",
    "#List and Taxes have a linear relationship, so I chose to use these variables\n",
    "#The target variable is Sell\n",
    "Beds = data['Beds'].values\n",
    "Living = data['Living'].values\n",
    "Rooms = data['Rooms'].values\n",
    "List = data['List'].values\n",
    "Taxes = data['Taxes'].values\n",
    "Baths = data['Baths'].values\n",
    "Age = data['Age'].values\n",
    "Acres = data['Acres'].values\n",
    "Sell = data['Sell'].values\n",
    "\n",
    "#Need to genereate our X values and Y values\n",
    "\n",
    "#The amount of items in list \n",
    "N =  len(List)\n",
    "\n",
    "#Array of 1's\n",
    "x0 = np.ones(N)\n",
    "\n",
    "#Array(matrix) for our x values\n",
    "X = np.array([x0, List, Taxes]).T#Living, Rooms, Beds, Baths, Age, Acres, Taxes]).T\n",
    "\n",
    "#These are the starting coefficients for each column. Started with 0's. B = theta\n",
    "B = np.array([0, 0, 0])#, 0, 0, 0, 0, 0, 0, 0])\n",
    "\n",
    "#this is our target variable\n",
    "Y = np.array(Sell)\n",
    "\n",
    "#starting learning step\n",
    "alpha = .01\n",
    "\n",
    "\n",
    "#splitting data into train, validate, test sets\n",
    "# we can split the data using an sklearn function which does everything for us\n",
    "test_percent = 0.3 # why am I using .3 here?\n",
    "\n",
    "X_train, X_test, y_train, y_test = train_test_split(X, Y, test_size=test_percent)\n",
    "X_train.shape, X_test.shape, y_train.shape, y_test.shape\n",
    "\n",
    "\n",
    "#further\n",
    "test_percent = .33\n",
    "X_validation, X_test, y_validation, y_test = train_test_split(X_test, y_test, test_size=test_percent)\n",
    "X_validation.shape, y_validation.shape, X_test.shape, y_test.shape"
   ]
  },
  {
   "cell_type": "code",
   "execution_count": 14,
   "metadata": {},
   "outputs": [
    {
     "name": "stdout",
     "output_type": "stream",
     "text": [
      "19878.1764706\n"
     ]
    }
   ],
   "source": [
    "#Defining cost function J(theta)\n",
    "\n",
    "def cost_function(X, Y, B):\n",
    "    m = len(Y)\n",
    "    J = np.sum((X.dot(B) - Y)**2)/(2*m)\n",
    "    return J\n",
    "\n",
    "initial_cost = cost_function(X_train, y_train, B)\n",
    "print(initial_cost)"
   ]
  },
  {
   "cell_type": "code",
   "execution_count": 23,
   "metadata": {},
   "outputs": [
    {
     "name": "stdout",
     "output_type": "stream",
     "text": [
      "Values for predicted y (h):[ 0.  0.  0.  0.  0.  0.  0.  0.  0.  0.  0.  0.  0.  0.  0.  0.  0.  0.\n",
      "  0.  0.  0.  0.  0.  0.  0.  0.  0.  0.  0.  0.  0.  0.  0.  0.]\n",
      "Values for predicted y (h):[-1304.60900925 -1185.02639097  -608.28880335 -1584.05247499 -1471.52294565\n",
      " -1535.72418712 -1750.59543018 -1946.61207109 -1735.21866163 -1241.13117806\n",
      " -1347.51880379 -1647.56972562  -620.0764255  -1660.85513293 -1170.94339557\n",
      " -1497.60686663 -1649.09998469 -1611.58318581 -1311.42792744 -1273.6560905\n",
      " -1499.5962065  -1521.24471285 -1516.64001385  -880.79975365 -1696.25044256\n",
      " -1464.808364   -1401.86379141 -1591.8614174  -2398.85630804 -2461.91216271\n",
      " -2980.9242894  -5129.55337363 -1484.01076487 -1347.51648862]\n",
      "Values for predicted y (h):[-14568.72793048 -13233.26725339  -6792.62408062 -17688.9974208\n",
      " -16432.44236862 -17149.07003489 -19548.90554612 -21737.58769413\n",
      " -19377.37498148 -13859.62760397 -15047.89977293 -18398.41026701\n",
      "  -6924.02013136 -18546.93355419 -13075.82518535 -16723.83672142\n",
      " -18415.42417936 -17996.49675069 -14644.85008754 -14222.91195722\n",
      " -16745.84977772 -16987.31052434 -16936.46739725  -9835.06745309\n",
      " -18942.05867987 -16357.45638064 -15654.74663918 -17776.36735893\n",
      " -26787.89410173 -27492.16585606 -33288.09998684 -57281.34497365\n",
      " -16572.04687493 -15047.757825  ]\n",
      "Values for predicted y (h):[-149424.80564636 -135727.46581611  -69668.44725283 -181427.39637035\n",
      " -168539.62872364 -175889.14942719 -200503.82287457 -222951.64252041\n",
      " -198744.86305282 -142151.43628982 -154339.43944362 -188703.72708694\n",
      "  -71015.66230004 -190227.37529249 -134112.31877177 -171528.54194805\n",
      " -188878.08831994 -184581.39258406 -150205.5071361  -145877.62114551\n",
      " -171753.93352142 -174229.93072525 -173709.56075073 -100872.02763525\n",
      " -194279.72880404 -167770.52503853 -160563.53351414 -182323.82827082\n",
      " -274750.41085517 -281974.03346958 -341420.40879706 -587506.7438461\n",
      " -169971.77809041 -154337.76168182]\n",
      "Values for predicted y (h):[-1520502.47920019 -1381122.21989372  -708924.83303345 -1846150.44834761\n",
      " -1715008.56919158 -1789794.19744712 -2040266.80055786 -2268688.39999716\n",
      " -2022368.67929937 -1446490.14870359 -1570512.31379856 -1920192.54303344\n",
      "  -722633.00505901 -1935697.20853628 -1364686.45456134 -1745423.18757371\n",
      " -1921966.57495223 -1878244.75310492 -1528446.59194051 -1484406.91629719\n",
      " -1747716.11998241 -1772910.29078255 -1767616.834388   -1026441.12318073\n",
      " -1976932.35391174 -1707182.38838078 -1633846.76044468 -1855272.75555577\n",
      " -2795777.41025829 -2869283.19587164 -3474192.05071191 -5978291.37284658\n",
      " -1729582.13486488 -1570494.90521598]\n",
      "Values for predicted y (h):[-15460205.98143687 -14043011.37315293  -7208224.151704   -18771336.94940142\n",
      " -17437909.32097908 -18198315.41364344 -20745078.81332088\n",
      " -23067629.08126057 -20563094.5303561  -14707660.49996511\n",
      " -15968697.29447937 -19524184.57064586  -7347605.54557854\n",
      " -19681833.96229558 -13875894.67281649 -17747160.33172205\n",
      " -19542222.32919293 -19097666.51981221 -15540980.24504666\n",
      " -15093191.91969433 -17770473.68410498 -18026642.51863058\n",
      " -17972821.82227036 -10436672.01879195 -20101105.2419737  -17358334.05596834\n",
      " -16612670.86582655 -18864091.6385101  -28426979.0439864  -29174373.61172805\n",
      " -35324982.36993769 -60786227.81870244 -17586091.40394208\n",
      " -15968519.83481244]\n",
      "Values for predicted y (h):[ -1.57184730e+08  -1.42776038e+08  -7.32863945e+07  -1.90849172e+08\n",
      "  -1.77292144e+08  -1.85023231e+08  -2.10916310e+08  -2.34529800e+08\n",
      "  -2.09066068e+08  -1.49533560e+08  -1.62354588e+08  -1.98503414e+08\n",
      "  -7.47034913e+07  -2.00106245e+08  -1.41076952e+08  -1.80436315e+08\n",
      "  -1.98686805e+08  -1.94166982e+08  -1.58005966e+08  -1.53453278e+08\n",
      "  -1.80673342e+08  -1.83277823e+08  -1.82730628e+08  -1.06110191e+08\n",
      "  -2.04368997e+08  -1.76483098e+08  -1.68901902e+08  -1.91792215e+08\n",
      "  -2.89018595e+08  -2.96617395e+08  -3.59150959e+08  -6.18016782e+08\n",
      "  -1.78798719e+08  -1.62352784e+08]\n",
      "Values for predicted y (h):[ -1.59809348e+09  -1.45160064e+09  -7.45101060e+08  -1.94035908e+09\n",
      "  -1.80252508e+09  -1.88112686e+09  -2.14438120e+09  -2.38445900e+09\n",
      "  -2.12556983e+09  -1.52030421e+09  -1.65065531e+09  -2.01817958e+09\n",
      "  -7.59508649e+08  -2.03447552e+09  -1.43432608e+09  -1.83449180e+09\n",
      "  -2.02004410e+09  -1.97409118e+09  -1.60644297e+09  -1.56015590e+09\n",
      "  -1.83690165e+09  -1.86338134e+09  -1.85781803e+09  -1.07881983e+09\n",
      "  -2.07781482e+09  -1.79429953e+09  -1.71722169e+09  -1.94994697e+09\n",
      "  -2.93844530e+09  -3.01570213e+09  -3.65147942e+09  -6.28336219e+09\n",
      "  -1.81784240e+09  -1.65063696e+09]\n",
      "Values for predicted y (h):[ -1.62477672e+10  -1.47583789e+10  -7.57541949e+09  -1.97275709e+10\n",
      "  -1.83262169e+10  -1.91253588e+10  -2.18018575e+10  -2.42427211e+10\n",
      "  -2.16106029e+10  -1.54568860e+10  -1.67821616e+10  -2.05187695e+10\n",
      "  -7.72190101e+09  -2.06844498e+10  -1.45827490e+10  -1.86512216e+10\n",
      "  -2.05377261e+10  -2.00705241e+10  -1.63326561e+10  -1.58620569e+10\n",
      "  -1.86757224e+10  -1.89449407e+10  -1.88883786e+10  -1.09683279e+10\n",
      "  -2.11250792e+10  -1.82425880e+10  -1.74589399e+10  -1.98250507e+10\n",
      "  -2.98750827e+10  -3.06605505e+10  -3.71244786e+10  -6.38827496e+10\n",
      "  -1.84819477e+10  -1.67819751e+10]\n",
      "Values for predicted y (h):[ -1.65190536e+11  -1.50047973e+11  -7.70190508e+10  -2.00569590e+11\n",
      "  -1.86322069e+11  -1.94446919e+11  -2.21658797e+11  -2.46474980e+11\n",
      "  -2.19714317e+11  -1.57149672e+11  -1.70623707e+11  -2.08613682e+11\n",
      "  -7.85083237e+10  -2.10298148e+11  -1.48262349e+11  -1.89626381e+11\n",
      "  -2.08806413e+11  -2.04056385e+11  -1.66053599e+11  -1.61269031e+11\n",
      "  -1.89875480e+11  -1.92612613e+11  -1.92037549e+11  -1.11514643e+11\n",
      "  -2.14778013e+11  -1.85471816e+11  -1.77504491e+11  -2.01560664e+11\n",
      "  -3.03739023e+11  -3.11724849e+11  -3.77443402e+11  -6.49493898e+11\n",
      "  -1.87905378e+11  -1.70621810e+11]\n",
      "Values for predicted y (h):[ -1.67948695e+12  -1.52553299e+12  -7.83050252e+11  -2.03918468e+12\n",
      "  -1.89433057e+12  -1.97693567e+12  -2.25359798e+12  -2.50590332e+12\n",
      "  -2.23382851e+12  -1.59773574e+12  -1.73472583e+12  -2.12096870e+12\n",
      "  -7.98191642e+11  -2.13809462e+12  -1.50737861e+12  -1.92792541e+12\n",
      "  -2.12292819e+12  -2.07463481e+12  -1.68826169e+12  -1.63961714e+12\n",
      "  -1.93045800e+12  -1.95828634e+12  -1.95243968e+12  -1.13376585e+12\n",
      "  -2.18364126e+12  -1.88568608e+12  -1.80468254e+12  -2.04926090e+12\n",
      "  -3.08810503e+12  -3.16929667e+12  -3.83745512e+12  -6.60338390e+12\n",
      "  -1.91042803e+12  -1.73470655e+12]\n",
      "Values for predicted y (h):[ -1.70752906e+13  -1.55100456e+13  -7.96124712e+12  -2.07323260e+13\n",
      "  -1.92595990e+13  -2.00994424e+13  -2.29122593e+13  -2.54774397e+13\n",
      "  -2.27112637e+13  -1.62441287e+13  -1.76369026e+13  -2.15638216e+13\n",
      "  -8.11518916e+12  -2.17379403e+13  -1.53254706e+13  -1.96011567e+13\n",
      "  -2.15837437e+13  -2.10927464e+13  -1.71645031e+13  -1.66699355e+13\n",
      "  -1.96269054e+13  -1.99098353e+13  -1.98503924e+13  -1.15269615e+13\n",
      "  -2.22010116e+13  -1.91717107e+13  -1.83481503e+13  -2.08347707e+13\n",
      "  -3.13966661e+13  -3.22221390e+13  -3.90152847e+13  -6.71363951e+13\n",
      "  -1.94232613e+13  -1.76367065e+13]\n",
      "Values for predicted y (h):[ -1.73603939e+14  -1.57690143e+14  -8.09417474e+13  -2.10784902e+14\n",
      "  -1.95811733e+14  -2.04350395e+14  -2.32948215e+14  -2.59028323e+14\n",
      "  -2.30904699e+14  -1.65153542e+14  -1.79313830e+14  -2.19238692e+14\n",
      "  -8.25068712e+13  -2.21008951e+14  -1.55813574e+14  -1.99284339e+14\n",
      "  -2.19441239e+14  -2.14449285e+14  -1.74510960e+14  -1.69482707e+14\n",
      "  -1.99546126e+14  -2.02422665e+14  -2.01818311e+14  -1.17194253e+14\n",
      "  -2.25716982e+14  -1.94918176e+14  -1.86545063e+14  -2.11826454e+14\n",
      "  -3.19208910e+14  -3.27601467e+14  -3.96667165e+14  -6.82573603e+14\n",
      "  -1.97475683e+14  -1.79311837e+14]\n",
      "Values for predicted y (h):[ -1.76502575e+15  -1.60323069e+15  -8.22932184e+14  -2.14304343e+15\n",
      "  -1.99081169e+15  -2.07762399e+15  -2.36837712e+15  -2.63353276e+15\n",
      "  -2.34760077e+15  -1.67911083e+15  -1.82307804e+15  -2.22899284e+15\n",
      "  -8.38844748e+14  -2.24699101e+15  -1.58415168e+15  -2.02611757e+15\n",
      "  -2.23105213e+15  -2.18029909e+15  -1.77424741e+15  -1.72312531e+15\n",
      "  -2.02877914e+15  -2.05802483e+15  -2.05188038e+15  -1.19151026e+15\n",
      "  -2.29485741e+15  -1.98172692e+15  -1.89659775e+15  -2.15363285e+15\n",
      "  -3.24538688e+15  -3.33071374e+15  -4.03290250e+15  -6.93970422e+15\n",
      "  -2.00772902e+15  -1.82305777e+15]\n",
      "Values for predicted y (h):[ -1.79449610e+16  -1.62999957e+16  -8.36672546e+15  -2.17882547e+16\n",
      "  -2.02405194e+16  -2.11231373e+16  -2.40792152e+16  -2.67750442e+16\n",
      "  -2.38679827e+16  -1.70714667e+16  -1.85351767e+16  -2.26620996e+16\n",
      "  -8.52850800e+15  -2.28450864e+16  -1.61060199e+16  -2.05994732e+16\n",
      "  -2.26830363e+16  -2.21670318e+16  -1.80387172e+16  -1.75189605e+16\n",
      "  -2.06265333e+16  -2.09238732e+16  -2.08614029e+16  -1.21140471e+16\n",
      "  -2.33317426e+16  -2.01481549e+16  -1.92826493e+16  -2.18959170e+16\n",
      "  -3.29957457e+16  -3.38632612e+16  -4.10023921e+16  -7.05557531e+16\n",
      "  -2.04125174e+16  -1.85349706e+16]\n",
      "[ -1.24575032e+10  -2.82983852e+12  -5.86917197e+13]\n",
      "[1991415.0979996731, 205783673.69150364, 21271227969.143734, 2198748175026.9036, 227278541824037.88, 23493156776518308.0, 2.4284228986072151e+18, 2.5101938537158964e+20, 2.594718237440006e+22, 2.6820887644742701e+24, 2.7724012714445796e+26, 2.865754822031082e+28, 2.9622518156309991e+30, 3.0619980996804136e+32, 3.1651030857581841e+34]\n"
     ]
    }
   ],
   "source": [
    "#now we need to define out Gradient Descent function\n",
    "\n",
    "def gradient_descent(X, Y, B, alpha, iterations):\n",
    "    cost_history = [0] * iterations\n",
    "    N = float(len(Y))\n",
    "    \n",
    "    for iteration in range(iterations):\n",
    "        # print(\"Value for B:\" + str(B))\n",
    "        #print(\"value for X: \" + str(X))\n",
    "        #print(\"value for Y: \" + str(Y))\n",
    "\n",
    "\n",
    "        #Predicted value\n",
    "        h = X.dot(B)\n",
    "        print(\"Values for predicted y (h):\" + str(h))\n",
    "        # print(\"value for Y: \" + str(Y))\n",
    "\n",
    "        #get predicted minus new\n",
    "        difference = h - Y\n",
    "        # print(\"Value for  pred_y-y :\" + str(sumy_xtheta))\n",
    "        #print(\"value for X: \" + str(X))\n",
    "\n",
    "        #gradient calculation\n",
    "        gradient = (difference.T.dot(X)) / -(2*N)\n",
    "        F = X.T.dot(difference)\n",
    "        # print\n",
    "        # print\n",
    "        # print(\"The value of X dot pred_(F): \" + str(F))\n",
    "        # print(\"The value of N :\" + str(N))\n",
    "        # print(\"The gradient is: \" + str(gradient))\n",
    "\n",
    "        #update gradient\n",
    "        B = B - (alpha * gradient)\n",
    "\n",
    "        # print(\"B AGAIN (alpha is .7): \" +str(B))\n",
    "\n",
    "        #New Cost Value\n",
    "        cost = cost_function(X, Y, B)\n",
    "        cost_history[iteration] = cost\n",
    "    return B, cost_history\n",
    "\n",
    "newB, cost_history = gradient_descent(X_train, y_train, B, .000001, 15)\n",
    "\n",
    "print(newB)\n",
    "print(cost_history)"
   ]
  },
  {
   "cell_type": "code",
   "execution_count": 24,
   "metadata": {},
   "outputs": [
    {
     "data": {
      "image/png": "[encoded data removed]",
      "text/plain": [
       "<Figure size 432x288 with 1 Axes>"
      ]
     },
     "metadata": {},
     "output_type": "display_data"
    }
   ],
   "source": [
    "import matplotlib.pyplot as plt\n",
    "\n",
    "plt.plot(cost_history)\n",
    "plt.show()"
   ]
  }
 ],
 "metadata": {
  "kernelspec": {
   "display_name": "Python 2",
   "language": "python",
   "name": "python2"
  },
  "language_info": {
   "codemirror_mode": {
    "name": "ipython",
    "version": 3
   },
   "file_extension": ".py",
   "mimetype": "text/x-python",
   "name": "python",
   "nbconvert_exporter": "python",
   "pygments_lexer": "ipython3",
   "version": "3.6.5"
  }
 },
 "nbformat": 4,
 "nbformat_minor": 2
}
